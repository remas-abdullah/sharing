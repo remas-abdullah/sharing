{
 "cells": [
  {
   "cell_type": "code",
   "execution_count": 21,
   "id": "8f273e14-61ff-4f5f-acc0-521689369075",
   "metadata": {
    "tags": []
   },
   "outputs": [
    {
     "data": {
      "text/markdown": [
       "# Data Science Tools and Ecosystem"
      ],
      "text/plain": [
       "<IPython.core.display.Markdown object>"
      ]
     },
     "metadata": {},
     "output_type": "display_data"
    }
   ],
   "source": [
    "from IPython.display import Markdown\n",
    "\n",
    "title = \"Data Science Tools and Ecosystem\"\n",
    "markdown_cell = Markdown(f\"# {title}\")\n",
    "\n",
    "# Display the markdown cell\n",
    "display(markdown_cell)\n"
   ]
  },
  {
   "cell_type": "markdown",
   "id": "265183e9-4779-4b62-9099-3a49df6efc24",
   "metadata": {},
   "source": [
    "**Objectives:**\n",
    "- List popular languages for Data Science\n",
    "- Introduce commonly used libraries in Data Science\n",
    "- Explore Data Science tools and ecosystem"
   ]
  },
  {
   "cell_type": "code",
   "execution_count": 22,
   "id": "fae8394f-6e89-4a0e-8a6a-9a861f25ab80",
   "metadata": {
    "tags": []
   },
   "outputs": [
    {
     "data": {
      "text/markdown": [
       "In this notebook, Data Science Tools and Ecosystem are summarized."
      ],
      "text/plain": [
       "<IPython.core.display.Markdown object>"
      ]
     },
     "metadata": {},
     "output_type": "display_data"
    }
   ],
   "source": [
    "from IPython.display import Markdown\n",
    "\n",
    "intro_sentence = \"In this notebook, Data Science Tools and Ecosystem are summarized.\"\n",
    "markdown_cell = Markdown(intro_sentence)\n",
    "\n",
    "# Display the markdown cell\n",
    "display(markdown_cell)"
   ]
  },
  {
   "cell_type": "code",
   "execution_count": 3,
   "id": "54ac77f9-e09a-4413-b8f9-62480dd65143",
   "metadata": {
    "tags": []
   },
   "outputs": [
    {
     "data": {
      "text/markdown": [
       "Some of the popular languages that Data Scientists use are:\n",
       "\n",
       "1. Python\n",
       "2. R\n",
       "3. Julia"
      ],
      "text/plain": [
       "<IPython.core.display.Markdown object>"
      ]
     },
     "metadata": {},
     "output_type": "display_data"
    }
   ],
   "source": [
    "from IPython.display import Markdown\n",
    "\n",
    "intro_line = \"Some of the popular languages that Data Scientists use are:\"\n",
    "languages = [\"Python\", \"R\", \"Julia\"]\n",
    "\n",
    "markdown_cell = Markdown(f\"{intro_line}\\n\\n1. {languages[0]}\\n2. {languages[1]}\\n3. {languages[2]}\")\n",
    "\n",
    "# Display the markdown cell\n",
    "display(markdown_cell)"
   ]
  },
  {
   "cell_type": "code",
   "execution_count": 9,
   "id": "72e55940-2e4d-487c-8493-0474a8cc95e6",
   "metadata": {
    "tags": []
   },
   "outputs": [
    {
     "data": {
      "text/markdown": [
       "Some of the commonly used libraries used by Data Scientists include:\n",
       "\n",
       "1. NumPy\n",
       "2. Pandas\n",
       "3. Matplotlib"
      ],
      "text/plain": [
       "<IPython.core.display.Markdown object>"
      ]
     },
     "metadata": {},
     "output_type": "display_data"
    }
   ],
   "source": [
    "from IPython.display import Markdown\n",
    "\n",
    "intro_line = \"Some of the commonly used libraries used by Data Scientists include:\"\n",
    "libraries = [\"NumPy\", \"Pandas\", \"Matplotlib\"]\n",
    "\n",
    "markdown_cell = Markdown(f\"{intro_line}\\n\\n1. {libraries[0]}\\n2. {libraries[1]}\\n3. {libraries[2]}\")\n",
    "\n",
    "# Display the markdown cell\n",
    "display(markdown_cell)"
   ]
  },
  {
   "cell_type": "code",
   "execution_count": 10,
   "id": "4cecbb07-56e6-4264-a7b2-737ad16fc816",
   "metadata": {
    "tags": []
   },
   "outputs": [
    {
     "data": {
      "text/markdown": [
       "| Data Science Tools |\n",
       "| --- |\n",
       "| Jupyter Notebook |\n",
       "| RStudio |\n",
       "| Visual Studio Code |\n"
      ],
      "text/plain": [
       "<IPython.core.display.Markdown object>"
      ]
     },
     "metadata": {},
     "output_type": "display_data"
    }
   ],
   "source": [
    "from IPython.display import Markdown, display\n",
    "\n",
    "table_header = \"Data Science Tools\"\n",
    "tools = [\"Jupyter Notebook\", \"RStudio\", \"Visual Studio Code\"]\n",
    "\n",
    "table_md = f\"| {table_header} |\\n| --- |\\n\"\n",
    "for tool in tools:\n",
    "    table_md += f\"| {tool} |\\n\"\n",
    "\n",
    "markdown_cell = Markdown(table_md)\n",
    "\n",
    "# Display the markdown cell\n",
    "display(markdown_cell)"
   ]
  },
  {
   "cell_type": "code",
   "execution_count": 11,
   "id": "792b8154-7ea1-4216-808e-170664f23734",
   "metadata": {
    "tags": []
   },
   "outputs": [
    {
     "data": {
      "text/markdown": [
       "### Below are a few examples of evaluating arithmetic expressions in Python."
      ],
      "text/plain": [
       "<IPython.core.display.Markdown object>"
      ]
     },
     "metadata": {},
     "output_type": "display_data"
    }
   ],
   "source": [
    "from IPython.display import Markdown, display\n",
    "\n",
    "intro_heading = \"### Below are a few examples of evaluating arithmetic expressions in Python.\"\n",
    "markdown_cell = Markdown(intro_heading)\n",
    "\n",
    "# Display the markdown cell\n",
    "display(markdown_cell)"
   ]
  },
  {
   "cell_type": "code",
   "execution_count": 12,
   "id": "a078d6e6-ede8-4d15-82c8-08ab43f3ed75",
   "metadata": {
    "tags": []
   },
   "outputs": [
    {
     "data": {
      "text/plain": [
       "17"
      ]
     },
     "execution_count": 12,
     "metadata": {},
     "output_type": "execute_result"
    }
   ],
   "source": [
    "# This is a simple arithmetic expression to multiply then add integers\n",
    "result = (3 * 4) + 5\n",
    "result"
   ]
  },
  {
   "cell_type": "code",
   "execution_count": 13,
   "id": "f792d4d1-92b5-4c15-825e-33241c3645f0",
   "metadata": {
    "tags": []
   },
   "outputs": [
    {
     "data": {
      "text/plain": [
       "3.3333333333333335"
      ]
     },
     "execution_count": 13,
     "metadata": {},
     "output_type": "execute_result"
    }
   ],
   "source": [
    "# This will convert 200 minutes to hours by dividing by 60\n",
    "minutes = 200\n",
    "hours = minutes / 60\n"
   ]
  },
  {
   "cell_type": "code",
   "execution_count": 20,
   "id": "abe00651-ff69-437f-823d-51c61d893de4",
   "metadata": {
    "tags": []
   },
   "outputs": [
    {
     "data": {
      "text/markdown": [
       "## Author\n",
       "\n",
       "Remas"
      ],
      "text/plain": [
       "<IPython.core.display.Markdown object>"
      ]
     },
     "metadata": {},
     "output_type": "display_data"
    }
   ],
   "source": [
    "from IPython.display import Markdown, display\n",
    "\n",
    "author_heading = \"## Author\"\n",
    "author_name = \"Remas\"\n",
    "\n",
    "markdown_cell = Markdown(f\"{author_heading}\\n\\n{author_name}\")\n",
    "\n",
    "# Display the markdown cell\n",
    "display(markdown_cell)"
   ]
  },
  {
   "cell_type": "code",
   "execution_count": null,
   "id": "e4cafd67-2ca3-44a6-b755-d6c708df9305",
   "metadata": {},
   "outputs": [],
   "source": []
  }
 ],
 "metadata": {
  "kernelspec": {
   "display_name": "Python",
   "language": "python",
   "name": "conda-env-python-py"
  },
  "language_info": {
   "codemirror_mode": {
    "name": "ipython",
    "version": 3
   },
   "file_extension": ".py",
   "mimetype": "text/x-python",
   "name": "python",
   "nbconvert_exporter": "python",
   "pygments_lexer": "ipython3",
   "version": "3.7.12"
  }
 },
 "nbformat": 4,
 "nbformat_minor": 5
}
